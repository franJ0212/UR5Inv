{
  "cells": [
    {
      "cell_type": "code",
      "execution_count": null,
      "metadata": {
        "id": "pj9iLNhMauen"
      },
      "outputs": [],
      "source": [
        "path_consultoria = '/content/drive/MyDrive/Consultoria/Final'"
      ]
    },
    {
      "cell_type": "code",
      "execution_count": null,
      "metadata": {
        "id": "bfY217uPay5l"
      },
      "outputs": [],
      "source": [
        "!cp -r {path_consultoria}/UR5Inv /content/"
      ]
    },
    {
      "cell_type": "code",
      "execution_count": null,
      "metadata": {
        "colab": {
          "base_uri": "https://localhost:8080/"
        },
        "id": "qjLKWLuybIju",
        "outputId": "9f8e1f03-14ff-45be-d211-e8961c0883ba"
      },
      "outputs": [],
      "source": [
        "!pip install optuna"
      ]
    },
    {
      "cell_type": "code",
      "execution_count": null,
      "metadata": {
        "id": "g9iotU2vRrES"
      },
      "outputs": [],
      "source": [
        "from UR5Inv.FNN import FNNInversaUR5"
      ]
    },
    {
      "cell_type": "code",
      "execution_count": null,
      "metadata": {
        "id": "_OPMALOcdtzk"
      },
      "outputs": [],
      "source": [
        "def comparar_modelos(nombre_modelo, ruta_datos, modelo, ruta_csv=None):\n",
        "    \"\"\"\n",
        "    Crea o actualiza un archivo CSV con métricas de comparación entre diferentes modelos.\n",
        "\n",
        "    Parámetros:\n",
        "        nombre_modelo (str): Nombre identificador del modelo (ej: \"Aleatorio_FNN\").\n",
        "        ruta_datos (str): Ruta al archivo de datos utilizado para entrenar el modelo.\n",
        "        modelo (FNNInversaUR5): Instancia del modelo entrenado para evaluar.\n",
        "        ruta_csv (str, opcional): Ruta donde guardar el archivo CSV. Por defecto se guarda\n",
        "                                 en el mismo directorio que los datos originales.\n",
        "    \"\"\"\n",
        "    import pandas as pd\n",
        "    import numpy as np\n",
        "    import os\n",
        "    import time\n",
        "    import torch\n",
        "\n",
        "    # Determinar ruta del CSV si no se especifica\n",
        "    if ruta_csv is None:\n",
        "        directorio_datos = os.path.dirname(ruta_datos)\n",
        "        ruta_csv = os.path.join(directorio_datos, \"comparacion_modelos.csv\")\n",
        "\n",
        "    # Obtener resultados de evaluación\n",
        "    resultados = modelo.evaluar_total()\n",
        "\n",
        "    # Calcular errores L1 por articulación\n",
        "    modelo.modelo_final.eval()\n",
        "    with torch.no_grad():\n",
        "        pred_total = modelo.modelo_final(torch.tensor(modelo.X, dtype=torch.float32).to(modelo.device)).cpu().numpy()\n",
        "\n",
        "    errores_L1 = np.mean(np.abs(modelo.Y - pred_total), axis=0)\n",
        "\n",
        "    # Calcular tiempo de inferencia promedio (1000 muestras)\n",
        "    tiempos = []\n",
        "    n_muestras = min(1000, len(modelo.X))\n",
        "    indices = np.random.choice(len(modelo.X), n_muestras, replace=False)\n",
        "\n",
        "    for idx in indices:\n",
        "        x = torch.tensor(modelo.X[idx:idx+1], dtype=torch.float32).to(modelo.device)\n",
        "\n",
        "        inicio = time.time()\n",
        "        with torch.no_grad():\n",
        "            modelo.modelo_final(x)\n",
        "        fin = time.time()\n",
        "\n",
        "        tiempos.append(fin - inicio)\n",
        "\n",
        "    tiempo_inf = np.mean(tiempos) * 1000  # ms\n",
        "\n",
        "    # Calcular tamaño del modelo (parámetros)\n",
        "    parametros = sum(p.numel() for p in modelo.modelo_final.parameters())\n",
        "\n",
        "    # Crear diccionario con las métricas - USANDO RADIANES en lugar de grados\n",
        "    metricas = {\n",
        "        'modelo': nombre_modelo,\n",
        "        'MSE_train': resultados['train']['mse_rad'] if resultados['train'] else None,\n",
        "        'MSE_test': resultados['test']['mse_rad'] if resultados['test'] else None,\n",
        "        'MSE_global': resultados['total']['mse_rad'],\n",
        "        'tamaño_modelo': parametros,\n",
        "        'tiempo_inf': tiempo_inf\n",
        "    }\n",
        "\n",
        "    # Añadir errores L1 por articulación\n",
        "    for i, error in enumerate(errores_L1):\n",
        "        metricas[f'Errorq{i}L1'] = error\n",
        "\n",
        "    # Crear o actualizar el archivo CSV\n",
        "    try:\n",
        "        # Intentar leer el archivo existente\n",
        "        df_existente = pd.read_csv(ruta_csv)\n",
        "        # Verificar si este modelo ya existe\n",
        "        if nombre_modelo in df_existente['modelo'].values:\n",
        "            # Si existe, actualizarlo\n",
        "            df_existente = df_existente[df_existente['modelo'] != nombre_modelo]\n",
        "\n",
        "        # Añadir el nuevo modelo\n",
        "        df_nueva_fila = pd.DataFrame([metricas])\n",
        "        df_final = pd.concat([df_existente, df_nueva_fila], ignore_index=True)\n",
        "\n",
        "    except (FileNotFoundError, pd.errors.EmptyDataError):\n",
        "        # Si el archivo no existe o está vacío, crear uno nuevo\n",
        "        df_final = pd.DataFrame([metricas])\n",
        "\n",
        "    # Guardar el archivo\n",
        "    df_final.to_csv(ruta_csv, index=False)\n",
        "    print(f\"Comparación actualizada en: {ruta_csv}\")\n",
        "\n",
        "    return df_final"
      ]
    },
    {
      "cell_type": "markdown",
      "metadata": {
        "id": "0sQb_cOnZaqW"
      },
      "source": [
        "## Datos comandos"
      ]
    },
    {
      "cell_type": "code",
      "execution_count": null,
      "metadata": {
        "colab": {
          "base_uri": "https://localhost:8080/",
          "height": 1000
        },
        "id": "X_9EtK-zhM8C",
        "outputId": "d94b1f42-1432-4d5a-80e6-9eb07ad3cf7c"
      },
      "outputs": [],
      "source": [
        "\n",
        "datos = r\"/content/drive/MyDrive/Consultoria/Final/Data/2dos/datos_comandos.csv\"\n",
        "\n",
        "modelo = FNNInversaUR5(\n",
        "    ruta_datos= datos,\n",
        "    test_size=0.3,\n",
        "    random_state=42,\n",
        ")\n",
        "\n",
        "print(f\"Datos cargados: {modelo.X.shape[0]} muestras\")\n",
        "print(f\"Dimensiones: entrada={modelo.input_dim}, salida={modelo.output_dim}\")\n",
        "\n",
        "# Ejecutamos la optimización con Optuna\n",
        "print(\"\\nOptimizando hiperparámetros con Optuna...\")\n",
        "modelo.optimizar(n_trials=12)\n",
        "\n",
        "# Entrenamos el mejor modelo encontrado\n",
        "print(\"\\nEntrenando el mejor modelo...\")\n",
        "modelo.entrenar_mejor_modelo()\n",
        "\n",
        "# Visualizaciones\n",
        "print(\"\\nGenerando gráficos...\")\n",
        "# Gráfico de pérdidas\n",
        "modelo.graficar_perdidas()\n",
        "\n",
        "# Evaluación y resumen\n",
        "print(\"\\nEvaluación del modelo:\")\n",
        "modelo.evaluar_total()\n",
        "modelo.guardar(\"Comandos\")\n",
        "\n",
        "comparar_modelos(\n",
        "    nombre_modelo=\"Comandos_FNN\",\n",
        "    ruta_datos= datos,\n",
        "    modelo=modelo\n",
        ")\n",
        "\n",
        "!cp -r /content/Comandos /content/drive/MyDrive/Consultoria/Final\n"
      ]
    },
    {
      "cell_type": "markdown",
      "metadata": {
        "id": "AqFrvka0cjkf"
      },
      "source": [
        "## Datos Aleatorios"
      ]
    },
    {
      "cell_type": "code",
      "execution_count": null,
      "metadata": {
        "colab": {
          "base_uri": "https://localhost:8080/",
          "height": 1000
        },
        "id": "z4mRPsB8ZZOu",
        "outputId": "0065991b-c04f-4e15-f793-83d4f552d4a5"
      },
      "outputs": [],
      "source": [
        "datos = r\"/content/drive/MyDrive/Consultoria/Final/Data/3ros/Aleatorio.csv\"\n",
        "\n",
        "modelo = FNNInversaUR5(\n",
        "    ruta_datos=datos,\n",
        "    test_size=0.1,\n",
        "    random_state=42,\n",
        ")\n",
        "\n",
        "print(f\"Datos cargados: {modelo.X.shape[0]} muestras\")\n",
        "print(f\"Dimensiones: entrada={modelo.input_dim}, salida={modelo.output_dim}\")\n",
        "\n",
        "# Ejecutamos la optimización con Optuna\n",
        "print(\"\\nOptimizando hiperparámetros con Optuna...\")\n",
        "modelo.optimizar(n_trials=50)\n",
        "\n",
        "# Entrenamos el mejor modelo encontrado\n",
        "print(\"\\nEntrenando el mejor modelo...\")\n",
        "modelo.entrenar_mejor_modelo()\n",
        "\n",
        "# Visualizaciones\n",
        "print(\"\\nGenerando gráficos...\")\n",
        "# Gráfico de pérdidas\n",
        "modelo.graficar_perdidas()\n",
        "\n",
        "# Evaluación y resumen\n",
        "print(\"\\nEvaluación del modelo:\")\n",
        "modelo.evaluar_total()\n",
        "modelo.guardar(\"Aleatorios\")\n",
        "\n",
        "comparar_modelos(\n",
        "    nombre_modelo=\"Aleatorio_FNN\",\n",
        "    ruta_datos=\"/content/drive/MyDrive/Consultoria/Final/Data/3ros/Aleatorio.csv\",\n",
        "    modelo=modelo\n",
        ")\n",
        "\n",
        "!cp -r /content/Aleatorios /content/drive/MyDrive/Consultoria/Final\n",
        "\n"
      ]
    },
    {
      "cell_type": "markdown",
      "metadata": {
        "id": "nF5v2WbDjFk6"
      },
      "source": [
        "## Trayectorias"
      ]
    },
    {
      "cell_type": "code",
      "execution_count": null,
      "metadata": {
        "colab": {
          "base_uri": "https://localhost:8080/",
          "height": 1000
        },
        "id": "Dc_sx-yojH7x",
        "outputId": "f4737cac-959f-4c80-9054-25a336d690ff"
      },
      "outputs": [],
      "source": [
        "\n",
        "datos = r\"/content/drive/MyDrive/Consultoria/Final/Data/Gen1/openaxes-example-robot-dataset/robot/Complete.csv\"\n",
        "\n",
        "modelo = FNNInversaUR5(\n",
        "    ruta_datos= datos,\n",
        "    test_size=0.3,\n",
        "    random_state=42,\n",
        ")\n",
        "\n",
        "print(f\"Datos cargados: {modelo.X.shape[0]} muestras\")\n",
        "print(f\"Dimensiones: entrada={modelo.input_dim}, salida={modelo.output_dim}\")\n",
        "\n",
        "# Ejecutamos la optimización con Optuna\n",
        "print(\"\\nOptimizando hiperparámetros con Optuna...\")\n",
        "modelo.optimizar(n_trials=12)\n",
        "\n",
        "# Entrenamos el mejor modelo encontrado\n",
        "print(\"\\nEntrenando el mejor modelo...\")\n",
        "modelo.entrenar_mejor_modelo()\n",
        "\n",
        "# Visualizaciones\n",
        "print(\"\\nGenerando gráficos...\")\n",
        "# Gráfico de pérdidas\n",
        "modelo.graficar_perdidas()\n",
        "\n",
        "# Evaluación y resumen\n",
        "print(\"\\nEvaluación del modelo:\")\n",
        "modelo.evaluar_total()\n",
        "modelo.guardar(\"Trayectorias\")\n",
        "\n",
        "comparar_modelos(\n",
        "    nombre_modelo=\"Trayectorias_FNN\",\n",
        "    ruta_datos= datos,\n",
        "    modelo=modelo\n",
        ")\n",
        "\n",
        "!cp -r /content/Trayectorias /content/drive/MyDrive/Consultoria/Final"
      ]
    },
    {
      "cell_type": "markdown",
      "metadata": {
        "id": "zVTSNM5rj-UH"
      },
      "source": [
        "## PesosVel"
      ]
    },
    {
      "cell_type": "code",
      "execution_count": null,
      "metadata": {
        "colab": {
          "base_uri": "https://localhost:8080/",
          "height": 1000
        },
        "id": "zWPiQjd4kFpL",
        "outputId": "727ad873-c8cf-43ef-8a20-5bd9bb1e7963"
      },
      "outputs": [],
      "source": [
        "\n",
        "datos = r\"/content/drive/MyDrive/Consultoria/Final/Data/Gen2/NISTdata.csv\"\n",
        "\n",
        "modelo = FNNInversaUR5(\n",
        "    ruta_datos= datos,\n",
        "    test_size=0.3,\n",
        "    random_state=42,\n",
        ")\n",
        "\n",
        "print(f\"Datos cargados: {modelo.X.shape[0]} muestras\")\n",
        "print(f\"Dimensiones: entrada={modelo.input_dim}, salida={modelo.output_dim}\")\n",
        "\n",
        "# Ejecutamos la optimización con Optuna\n",
        "print(\"\\nOptimizando hiperparámetros con Optuna...\")\n",
        "modelo.optimizar(n_trials=8)\n",
        "\n",
        "# Entrenamos el mejor modelo encontrado\n",
        "print(\"\\nEntrenando el mejor modelo...\")\n",
        "modelo.entrenar_mejor_modelo()\n",
        "\n",
        "# Visualizaciones\n",
        "print(\"\\nGenerando gráficos...\")\n",
        "# Gráfico de pérdidas\n",
        "modelo.graficar_perdidas()\n",
        "\n",
        "# Evaluación y resumen\n",
        "print(\"\\nEvaluación del modelo:\")\n",
        "modelo.evaluar_total()\n",
        "modelo.guardar(\"PesosVel\")\n",
        "\n",
        "comparar_modelos(\n",
        "    nombre_modelo=\"PesosVel_FNN\",\n",
        "    ruta_datos= datos,\n",
        "    modelo=modelo\n",
        ")\n",
        "\n",
        "!cp -r /content/PesosVel /content/drive/MyDrive/Consultoria/Final"
      ]
    }
  ],
  "metadata": {
    "accelerator": "GPU",
    "colab": {
      "collapsed_sections": [
        "0sQb_cOnZaqW",
        "AqFrvka0cjkf"
      ],
      "gpuType": "T4",
      "provenance": []
    },
    "kernelspec": {
      "display_name": "Python 3",
      "name": "python3"
    },
    "language_info": {
      "name": "python"
    }
  },
  "nbformat": 4,
  "nbformat_minor": 0
}
