{
  "cells": [
    {
      "cell_type": "code",
      "execution_count": null,
      "metadata": {
        "id": "pj9iLNhMauen"
      },
      "outputs": [],
      "source": [
        "path_consultoria = '/content/drive/MyDrive/Consultoria/Final'"
      ]
    },
    {
      "cell_type": "code",
      "execution_count": null,
      "metadata": {
        "id": "bfY217uPay5l"
      },
      "outputs": [],
      "source": [
        "!cp -r {path_consultoria}/UR5Inv /content/"
      ]
    },
    {
      "cell_type": "code",
      "execution_count": null,
      "metadata": {
        "colab": {
          "base_uri": "https://localhost:8080/"
        },
        "id": "qjLKWLuybIju",
        "outputId": "c5a6ed70-5ae9-434a-c41a-f9d96e29d52a"
      },
      "outputs": [],
      "source": [
        "!pip install optuna"
      ]
    },
    {
      "cell_type": "code",
      "execution_count": null,
      "metadata": {
        "id": "g9iotU2vRrES"
      },
      "outputs": [],
      "source": [
        "from UR5Inv.RF import RFInversaUR5"
      ]
    },
    {
      "cell_type": "code",
      "execution_count": null,
      "metadata": {
        "id": "_OPMALOcdtzk"
      },
      "outputs": [],
      "source": [
        "def comparar_modelos_rf(nombre_modelo, ruta_datos, modelo, ruta_csv=None):\n",
        "    \"\"\"\n",
        "    Crea o actualiza un archivo CSV con métricas de comparación para modelos RF.\n",
        "    Aprovecha las métricas ya calculadas por el modelo sin recalcularlas.\n",
        "\n",
        "    Parámetros:\n",
        "        nombre_modelo (str): Nombre identificador del modelo (ej: \"Aleatorio_RF\").\n",
        "        ruta_datos (str): Ruta al archivo de datos utilizado para entrenar el modelo.\n",
        "        modelo (RFInversaUR5 o RFInversaUR5Simple): Instancia del modelo RF entrenado.\n",
        "        ruta_csv (str, opcional): Ruta donde guardar el archivo CSV.\n",
        "    \"\"\"\n",
        "    import pandas as pd\n",
        "    import numpy as np\n",
        "    import os\n",
        "    import time\n",
        "\n",
        "    # Determinar ruta del CSV si no se especifica\n",
        "    if ruta_csv is None:\n",
        "        directorio_datos = os.path.dirname(ruta_datos)\n",
        "        ruta_csv = os.path.join(directorio_datos, \"comparacion_modelos.csv\")\n",
        "\n",
        "    # Obtener resultados de la evaluación del modelo (sin recalcular)\n",
        "    # Asumimos que el modelo ya ha sido evaluado\n",
        "\n",
        "    # Calcular tiempo de inferencia promedio (100 muestras)\n",
        "    tiempos = []\n",
        "    n_muestras = min(100, len(modelo.X))\n",
        "    indices = np.random.choice(len(modelo.X), n_muestras, replace=False)\n",
        "\n",
        "    for idx in indices:\n",
        "        x = modelo.X[idx:idx+1]\n",
        "        inicio = time.time()\n",
        "        modelo.predecir(x)\n",
        "        fin = time.time()\n",
        "        tiempos.append(fin - inicio)\n",
        "\n",
        "    tiempo_inf = np.mean(tiempos) * 1000  # ms\n",
        "\n",
        "    # Calcular tamaño aproximado del modelo\n",
        "    if hasattr(modelo, 'n_estimators'):\n",
        "        n_trees = modelo.n_estimators\n",
        "    else:\n",
        "        n_trees = modelo.study.best_params.get('n_estimators', 100)\n",
        "\n",
        "    parametros = n_trees * modelo.output_dim * 100  # Aproximación\n",
        "\n",
        "    # Crear diccionario con las métricas de los resultados existentes\n",
        "    metricas = {\n",
        "        'modelo': nombre_modelo,\n",
        "        'MSE_train': modelo.train_loss[0] if hasattr(modelo, 'train_loss') else None,\n",
        "        'MSE_test': modelo.test_loss[0] if hasattr(modelo, 'test_loss') else None,\n",
        "        'MSE_global': np.mean(modelo.train_loss) if hasattr(modelo, 'train_loss') else None,\n",
        "        'tamaño_modelo': parametros,\n",
        "        'tiempo_inf': tiempo_inf\n",
        "    }\n",
        "\n",
        "    # Añadir errores L1 por articulación (si están disponibles)\n",
        "    if hasattr(modelo, 'train_loss_l1'):\n",
        "        for i, error in enumerate(modelo.train_loss_l1):\n",
        "            metricas[f'Errorq{i}L1'] = error\n",
        "\n",
        "    # Crear o actualizar el archivo CSV\n",
        "    try:\n",
        "        df_existente = pd.read_csv(ruta_csv)\n",
        "        if nombre_modelo in df_existente['modelo'].values:\n",
        "            df_existente = df_existente[df_existente['modelo'] != nombre_modelo]\n",
        "        df_nueva_fila = pd.DataFrame([metricas])\n",
        "        df_final = pd.concat([df_existente, df_nueva_fila], ignore_index=True)\n",
        "    except (FileNotFoundError, pd.errors.EmptyDataError):\n",
        "        df_final = pd.DataFrame([metricas])\n",
        "\n",
        "    df_final.to_csv(ruta_csv, index=False)\n",
        "    print(f\"Comparación actualizada en: {ruta_csv}\")\n",
        "\n",
        "    return df_final"
      ]
    },
    {
      "cell_type": "code",
      "execution_count": null,
      "metadata": {
        "id": "VTrt4SD0tMu3"
      },
      "outputs": [],
      "source": [
        "import numpy as np\n",
        "import pandas as pd\n",
        "from cuml.ensemble import RandomForestRegressor as cuRF\n",
        "from sklearn.model_selection import train_test_split\n",
        "from sklearn.metrics import r2_score, mean_squared_error\n",
        "import matplotlib.pyplot as plt\n",
        "import time\n",
        "import os\n",
        "import joblib\n",
        "import optuna\n",
        "import optuna.visualization.matplotlib as vis\n"
      ]
    },
    {
      "cell_type": "markdown",
      "metadata": {
        "id": "0sQb_cOnZaqW"
      },
      "source": [
        "## Datos comandos"
      ]
    },
    {
      "cell_type": "code",
      "execution_count": null,
      "metadata": {
        "colab": {
          "base_uri": "https://localhost:8080/",
          "height": 1000
        },
        "id": "X_9EtK-zhM8C",
        "outputId": "15daf127-2ac9-46f7-b0cf-c8859a91baaf"
      },
      "outputs": [],
      "source": [
        "\n",
        "datos = r\"/content/drive/MyDrive/Consultoria/Final/Data/2dos/datos_comandos.csv\"\n",
        "\n",
        "modelo = RFInversaUR5(\n",
        "    ruta_datos=datos,\n",
        "    test_size=0.25,\n",
        "    random_state=42,\n",
        ")\n",
        "print(f\"Datos cargados: {modelo.X.shape[0]} muestras\")\n",
        "print(f\"Dimensiones: entrada={modelo.input_dim}, salida={modelo.output_dim}\")\n",
        "\n",
        "# Ejecutamos la optimización con Optuna\n",
        "print(\"\\nOptimizando hiperparámetros con Optuna...\")\n",
        "modelo.optimizar(n_trials=30)\n",
        "\n",
        "# Entrenamos el mejor modelo encontrado\n",
        "print(\"\\nEntrenando el mejor modelo...\")\n",
        "modelo.entrenar_mejor_modelo()\n",
        "\n",
        "# Visualizaciones\n",
        "print(\"\\nGenerando gráficos...\")\n",
        "# Gráfico de pérdidas\n",
        "modelo.graficar_perdidas()\n",
        "\n",
        "# Evaluación y resumen\n",
        "print(\"\\nEvaluación del modelo:\")\n",
        "modelo.summary()\n",
        "\n",
        "# Guardar modelo y resultados\n",
        "nombre_carpeta = \"Comandos_RF\"\n",
        "modelo.guardar(nombre_carpeta)\n"
      ]
    },
    {
      "cell_type": "code",
      "execution_count": null,
      "metadata": {
        "colab": {
          "base_uri": "https://localhost:8080/",
          "height": 160
        },
        "id": "7ZDgCEncty72",
        "outputId": "49ccb665-c3d9-45fb-c4ec-afbba940192e"
      },
      "outputs": [],
      "source": [
        "# Guardar métricas comparativas\n",
        "comparar_modelos_rf(\n",
        "    nombre_modelo=\"Comandos_RF\",\n",
        "    ruta_datos=datos,\n",
        "    modelo=modelo\n",
        ")"
      ]
    },
    {
      "cell_type": "code",
      "execution_count": null,
      "metadata": {
        "id": "9JtcXsVD-UFY"
      },
      "outputs": [],
      "source": [
        "\n",
        "\n",
        "import locale\n",
        "locale.getpreferredencoding = lambda: 'UTF-8'\n",
        "\n",
        "!export LANG=C.UTF-8\n",
        "!export LC_ALL=C.UTF-8\n",
        "!export LC_CTYPE=C.UTF-8\n",
        "\n",
        "!cp -r {nombre_carpeta} /content/drive/MyDrive/Consultoria/Final"
      ]
    },
    {
      "cell_type": "markdown",
      "metadata": {
        "id": "AqFrvka0cjkf"
      },
      "source": [
        "## Datos Aleatorios"
      ]
    },
    {
      "cell_type": "code",
      "execution_count": null,
      "metadata": {
        "colab": {
          "base_uri": "https://localhost:8080/",
          "height": 1000
        },
        "id": "z4mRPsB8ZZOu",
        "outputId": "76b4590b-7027-45a8-a745-4931043d6f87"
      },
      "outputs": [],
      "source": [
        "\n",
        "datos = r\"/content/drive/MyDrive/Consultoria/Final/Data/3ros/Aleatorio.csv\"\n",
        "\n",
        "modelo = RFInversaUR5(\n",
        "    ruta_datos=datos,\n",
        "    test_size=0.15,\n",
        "    random_state=42,\n",
        ")\n",
        "print(f\"Datos cargados: {modelo.X.shape[0]} muestras\")\n",
        "print(f\"Dimensiones: entrada={modelo.input_dim}, salida={modelo.output_dim}\")\n",
        "\n",
        "# Ejecutamos la optimización con Optuna\n",
        "print(\"\\nOptimizando hiperparámetros con Optuna...\")\n",
        "modelo.optimizar(n_trials=30)\n",
        "\n",
        "# Entrenamos el mejor modelo encontrado\n",
        "print(\"\\nEntrenando el mejor modelo...\")\n",
        "modelo.entrenar_mejor_modelo()\n",
        "\n",
        "# Visualizaciones\n",
        "print(\"\\nGenerando gráficos...\")\n",
        "# Gráfico de pérdidas\n",
        "modelo.graficar_perdidas()\n",
        "\n",
        "# Evaluación y resumen\n",
        "print(\"\\nEvaluación del modelo:\")\n",
        "modelo.summary()\n",
        "\n",
        "# Guardar modelo y resultados\n",
        "nombre_carpeta = \"Aleatorios_RF\"\n",
        "modelo.guardar(nombre_carpeta)\n",
        "\n"
      ]
    },
    {
      "cell_type": "code",
      "execution_count": null,
      "metadata": {
        "colab": {
          "base_uri": "https://localhost:8080/"
        },
        "id": "hGK3_fzW2tVt",
        "outputId": "8a45c540-f8e6-44cd-c909-f98413b669bf"
      },
      "outputs": [],
      "source": [
        "# Guardar métricas comparativas\n",
        "comparar_modelos_rf(\n",
        "    nombre_modelo=\"Aleatorio_RF\",\n",
        "    ruta_datos=datos,\n",
        "    modelo=modelo\n",
        ")\n",
        "\n",
        "\n",
        "!cp -r {nombre_carpeta} /content/drive/MyDrive/Consultoria/Final"
      ]
    },
    {
      "cell_type": "markdown",
      "metadata": {
        "id": "nF5v2WbDjFk6"
      },
      "source": [
        "## Trayectorias"
      ]
    },
    {
      "cell_type": "code",
      "execution_count": null,
      "metadata": {
        "colab": {
          "base_uri": "https://localhost:8080/",
          "height": 1000
        },
        "id": "Dc_sx-yojH7x",
        "outputId": "e0ace793-f4df-4033-983d-e640f2ff483d"
      },
      "outputs": [],
      "source": [
        "\n",
        "datos = r\"/content/drive/MyDrive/Consultoria/Final/Data/Gen1/openaxes-example-robot-dataset/robot/Complete.csv\"\n",
        "\n",
        "modelo = RFInversaUR5(\n",
        "    ruta_datos=datos,\n",
        "    test_size=0.25,\n",
        "    random_state=42,\n",
        ")\n",
        "print(f\"Datos cargados: {modelo.X.shape[0]} muestras\")\n",
        "print(f\"Dimensiones: entrada={modelo.input_dim}, salida={modelo.output_dim}\")\n",
        "\n",
        "# Ejecutamos la optimización con Optuna\n",
        "print(\"\\nOptimizando hiperparámetros con Optuna...\")\n",
        "modelo.optimizar(n_trials=50)\n",
        "\n",
        "# Entrenamos el mejor modelo encontrado\n",
        "print(\"\\nEntrenando el mejor modelo...\")\n",
        "modelo.entrenar_mejor_modelo()\n",
        "\n",
        "# Visualizaciones\n",
        "print(\"\\nGenerando gráficos...\")\n",
        "# Gráfico de pérdidas\n",
        "modelo.graficar_perdidas()\n",
        "\n",
        "# Evaluación y resumen\n",
        "print(\"\\nEvaluación del modelo:\")\n",
        "modelo.summary()\n",
        "\n",
        "# Guardar modelo y resultados\n",
        "nombre_carpeta = \"Trayectorias_RF\"\n",
        "modelo.guardar(nombre_carpeta)\n",
        "\n",
        "# Guardar métricas comparativas\n",
        "comparar_modelos_rf(\n",
        "    nombre_modelo=\"Trayectorias_RF\",\n",
        "    ruta_datos=datos,\n",
        "    modelo=modelo\n",
        ")\n",
        "\n",
        "!cp -r {nombre_carpeta} /content/drive/MyDrive/Consultoria/Final"
      ]
    },
    {
      "cell_type": "code",
      "execution_count": null,
      "metadata": {
        "id": "4SEuwTbWVein"
      },
      "outputs": [],
      "source": [
        "!cp -r {nombre_carpeta} /content/drive/MyDrive/Consultoria/Final"
      ]
    },
    {
      "cell_type": "markdown",
      "metadata": {
        "id": "zVTSNM5rj-UH"
      },
      "source": [
        "## PesosVel"
      ]
    },
    {
      "cell_type": "code",
      "execution_count": null,
      "metadata": {
        "id": "MeqxsEm8CjPv"
      },
      "outputs": [],
      "source": []
    },
    {
      "cell_type": "code",
      "execution_count": null,
      "metadata": {
        "colab": {
          "base_uri": "https://localhost:8080/",
          "height": 1000
        },
        "id": "zWPiQjd4kFpL",
        "outputId": "f0a050ab-de98-4266-e1a0-32718b257e13"
      },
      "outputs": [],
      "source": [
        "\n",
        "datos = r\"/content/drive/MyDrive/Consultoria/Final/Data/Gen2/NISTdata.csv\"\n",
        "\n",
        "modelo = RFInversaUR5(\n",
        "    ruta_datos=datos,\n",
        "    test_size=0.30,\n",
        "    random_state=42,\n",
        ")\n",
        "print(f\"Datos cargados: {modelo.X.shape[0]} muestras\")\n",
        "print(f\"Dimensiones: entrada={modelo.input_dim}, salida={modelo.output_dim}\")\n",
        "\n",
        "# Ejecutamos la optimización con Optuna\n",
        "print(\"\\nOptimizando hiperparámetros con Optuna...\")\n",
        "modelo.optimizar(n_trials=18)\n",
        "\n",
        "# Entrenamos el mejor modelo encontrado\n",
        "print(\"\\nEntrenando el mejor modelo...\")\n",
        "modelo.entrenar_mejor_modelo()\n",
        "\n",
        "# Visualizaciones\n",
        "print(\"\\nGenerando gráficos...\")\n",
        "# Gráfico de pérdidas\n",
        "modelo.graficar_perdidas()\n",
        "\n",
        "# Evaluación y resumen\n",
        "print(\"\\nEvaluación del modelo:\")\n",
        "modelo.summary()\n",
        "\n",
        "# Guardar modelo y resultados\n",
        "nombre_carpeta = \"PesosVel_RF\"\n",
        "modelo.guardar(nombre_carpeta)\n",
        "\n",
        "# Guardar métricas comparativas\n",
        "comparar_modelos_rf(\n",
        "    nombre_modelo=\"PesosVel_RF\",\n",
        "    ruta_datos=datos,\n",
        "    modelo=modelo\n",
        ")\n",
        "\n",
        "import locale\n",
        "locale.getpreferredencoding = lambda: 'UTF-8'\n",
        "\n",
        "!export LANG=C.UTF-8\n",
        "!export LC_ALL=C.UTF-8\n",
        "!export LC_CTYPE=C.UTF-8\n",
        "\n",
        "\n",
        "!cp -r {nombre_carpeta} /content/drive/MyDrive/Consultoria/Final"
      ]
    },
    {
      "cell_type": "code",
      "execution_count": null,
      "metadata": {
        "id": "ZnDEpaXxbnRI"
      },
      "outputs": [],
      "source": [
        "!cp -r {nombre_carpeta} /content/drive/MyDrive/Consultoria/Final"
      ]
    }
  ],
  "metadata": {
    "accelerator": "GPU",
    "colab": {
      "gpuType": "L4",
      "provenance": []
    },
    "kernelspec": {
      "display_name": "Python 3",
      "name": "python3"
    },
    "language_info": {
      "name": "python"
    }
  },
  "nbformat": 4,
  "nbformat_minor": 0
}
